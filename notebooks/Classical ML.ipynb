{
 "cells": [
  {
   "cell_type": "markdown",
   "metadata": {},
   "source": [
    "# Classical ML"
   ]
  },
  {
   "cell_type": "markdown",
   "metadata": {},
   "source": [
    "## Import Required Modules"
   ]
  },
  {
   "cell_type": "code",
   "execution_count": 1,
   "metadata": {},
   "outputs": [],
   "source": [
    "%load_ext autoreload\n",
    "%autoreload 2"
   ]
  },
  {
   "cell_type": "markdown",
   "metadata": {},
   "source": [
    "## Import System tools"
   ]
  },
  {
   "cell_type": "code",
   "execution_count": 2,
   "metadata": {},
   "outputs": [],
   "source": [
    "import os\n",
    "import sys\n",
    "import gc\n",
    "import cProfile\n",
    "import warnings"
   ]
  },
  {
   "cell_type": "code",
   "execution_count": 3,
   "metadata": {},
   "outputs": [],
   "source": [
    "current_dir = os.getcwd()\n",
    "helpers = os.path.join(current_dir, \"helpers\")\n",
    "sys.path.insert(0,helpers)"
   ]
  },
  {
   "cell_type": "markdown",
   "metadata": {},
   "source": [
    "## Importing libraries"
   ]
  },
  {
   "cell_type": "code",
   "execution_count": 4,
   "metadata": {},
   "outputs": [
    {
     "name": "stderr",
     "output_type": "stream",
     "text": [
      "2023-09-03 19:17:16 - INFO - Logger Created.\n"
     ]
    }
   ],
   "source": [
    "from enum import Enum, IntEnum\n",
    "import itertools\n",
    "import random\n",
    "import pandas as pd\n",
    "import numpy as np\n",
    "import matplotlib.pyplot as plt\n",
    "import matplotlib.markers as markers\n",
    "import seaborn as sns\n",
    "import json\n",
    "import pickle\n",
    "from tabulate import tabulate\n",
    "from logger import logger\n",
    "import directory_manager as dm\n",
    "import object_manager as om\n",
    "import data_structures as ds\n",
    "import df_manager as dfm\n",
    "from data_model import Metrics, CSVHeader,HandWashingType\n",
    "from filters import band_pass_filter\n",
    "from sliding_window import get_windows\n",
    "import features\n",
    "from tqdm import tqdm\n",
    "from collections import Counter\n",
    "\n",
    "import plotly.graph_objects as go\n",
    "from plotly_resampler import FigureResampler, FigureWidgetResampler\n",
    "\n",
    "from tsfresh.feature_extraction import extract_features\n",
    "\n",
    "import sampler"
   ]
  },
  {
   "cell_type": "code",
   "execution_count": 18,
   "metadata": {},
   "outputs": [],
   "source": [
    "from sklearn.model_selection import LeaveOneGroupOut, cross_val_score\n",
    "from sklearn.ensemble import RandomForestClassifier\n",
    "from sklearn.metrics import confusion_matrix, f1_score, precision_score, recall_score, roc_auc_score, classification_report\n",
    "from sklearn.utils.class_weight import compute_class_weight\n",
    "from sklearn.preprocessing import RobustScaler, MinMaxScaler\n",
    "\n",
    "from imblearn.combine import SMOTEENN\n",
    "from imblearn.under_sampling import EditedNearestNeighbours\n"
   ]
  },
  {
   "cell_type": "markdown",
   "metadata": {},
   "source": [
    "## Load files"
   ]
  },
  {
   "cell_type": "code",
   "execution_count": 6,
   "metadata": {},
   "outputs": [
    {
     "name": "stdout",
     "output_type": "stream",
     "text": [
      "Total Subjects:22\n",
      "Personalized Subject:03\n",
      "Shuffled:['22', '13', '07', '19', '29', '24', '21', '30', '18', '02', '20', '04', '25', '12', '05', '15', '11', '01', '09', '10', '27']\n",
      "Train_set:['22', '13', '07', '19', '29', '24', '21', '30', '18', '02', '20', '04', '25', '12', '05', '15', '11']\n",
      "Test_set:['09', '27', '10', '01']\n"
     ]
    }
   ],
   "source": [
    "# Load lists of csv files\n",
    "data_folder = \"features\"\n",
    "personalized_subject = \"03\"\n",
    "csv_files = dm.get_files_names(dm.get_data_dir(data_folder))\n",
    "grouped_files = ds.group_by_subjects(csv_files)\n",
    "subjects = [key for key in grouped_files.keys()]\n",
    "print(f\"Total Subjects:{len(subjects)}\")\n",
    "\n",
    "subjects.remove(personalized_subject)\n",
    "total_subjects = len(subjects)\n",
    "print(f\"Personalized Subject:{personalized_subject}\")\n",
    "\n",
    "#random.seed(52)\n",
    "random.shuffle(subjects)\n",
    "print(f\"Shuffled:{subjects}\")\n",
    "total_train = int(0.85*total_subjects)\n",
    "\n",
    "train_sub_ids = subjects[:total_train]\n",
    "test_sub_ids = list(set(subjects)-set(train_sub_ids))\n",
    "\n",
    "print(f\"Train_set:{train_sub_ids}\")\n",
    "print(f\"Test_set:{test_sub_ids}\")"
   ]
  },
  {
   "cell_type": "code",
   "execution_count": 7,
   "metadata": {
    "scrolled": true
   },
   "outputs": [
    {
     "name": "stdout",
     "output_type": "stream",
     "text": [
      "Train Set:17\n",
      "Test Set: 5\n"
     ]
    }
   ],
   "source": [
    "grouped_files = ds.group_by_subjects(csv_files)\n",
    "\n",
    "train_set = {}\n",
    "test_set = {}\n",
    "\n",
    "for sub, files in grouped_files.items():\n",
    "    if sub in train_sub_ids:\n",
    "        train_set[sub] = files\n",
    "    else:\n",
    "        test_set[sub]=files\n",
    "\n",
    "print(f\"Train Set:{len(train_set)}\")\n",
    "print(f\"Test Set: {len(test_set)}\")"
   ]
  },
  {
   "cell_type": "code",
   "execution_count": 8,
   "metadata": {},
   "outputs": [],
   "source": [
    "train_files = [files[0] for files in train_set.values()]\n",
    "test_files = [files[0] for files in test_set.values()]"
   ]
  },
  {
   "cell_type": "code",
   "execution_count": 9,
   "metadata": {},
   "outputs": [
    {
     "name": "stderr",
     "output_type": "stream",
     "text": [
      "Loading CSV Files:: 100%|██████████████████████████████████████████████████████████████████████████████████████████████████████████████████████████████████████████████████████████| 17/17 [00:16<00:00,  1.04it/s]\n",
      "2023-09-03 19:18:11 - INFO - 17 csv files loaded successfully. DataFrame Length:2473264\n",
      "Loading CSV Files:: 100%|████████████████████████████████████████████████████████████████████████████████████████████████████████████████████████████████████████████████████████████| 5/5 [00:03<00:00,  1.41it/s]\n",
      "2023-09-03 19:18:14 - INFO - 5 csv files loaded successfully. DataFrame Length:559041\n"
     ]
    }
   ],
   "source": [
    "df_train = dfm.load_all_files(train_files, data_folder, add_sub_id=True)\n",
    "df_test = dfm.load_all_files(test_files, data_folder, add_sub_id=True)"
   ]
  },
  {
   "cell_type": "code",
   "execution_count": 10,
   "metadata": {},
   "outputs": [],
   "source": [
    "def plot_multiple_histograms(dataframes, names, num_cols=1):\n",
    "    \"\"\"\n",
    "    Plots multiple histograms in rows within one figure.\n",
    "\n",
    "    Args:\n",
    "        dataframes (list): List of DataFrames, each containing label data in a single column.\n",
    "        names (list): List of names corresponding to each DataFrame for labeling the subplots.\n",
    "    \"\"\"\n",
    "    num_dataframes = len(dataframes)\n",
    "    \n",
    "    # Determine the number of rows and columns for subplots\n",
    "    num_rows = num_dataframes//num_cols\n",
    "\n",
    "    fig, axes = plt.subplots(num_rows, num_cols, figsize=(15, 5 * num_rows))\n",
    "    fig.subplots_adjust(hspace=0.5)\n",
    "\n",
    "    for i, df in enumerate(dataframes):\n",
    "        row = i//num_cols\n",
    "        col = i%num_cols\n",
    "        if col>2:\n",
    "            ax = axes[row,col]\n",
    "        else:\n",
    "            ax = axes[row]\n",
    "        ax.hist(df.iloc[:, -2], bins=len(df[df.columns[-2]].unique()), rwidth=0.8, alpha=0.7, color='skyblue')\n",
    "        ax.set_xlabel('Labels')\n",
    "        ax.set_ylabel('Frequency')\n",
    "        ax.set_title(names[i])\n",
    "        ax.grid(axis='y', linestyle='--', alpha=0.7)\n",
    "        \n",
    "    # Remove empty subplots if any\n",
    "    for i in range(num_dataframes, num_rows * num_cols):\n",
    "        fig.delaxes(axes[i // num_cols, i % num_cols])\n",
    "\n",
    "    plt.show()"
   ]
  },
  {
   "cell_type": "code",
   "execution_count": 13,
   "metadata": {},
   "outputs": [],
   "source": [
    "def plot_multiple_pies(dataframes, names, num_cols=1):\n",
    "    \"\"\"\n",
    "    Plots multiple histograms in rows within one figure.\n",
    "\n",
    "    Args:\n",
    "        dataframes (list): List of DataFrames, each containing label data in a single column.\n",
    "        names (list): List of names corresponding to each DataFrame for labeling the subplots.\n",
    "    \"\"\"\n",
    "    num_dataframes = len(dataframes)\n",
    "    \n",
    "    labels = ['others', 'rHW', 'cHW']\n",
    "    \n",
    "    # Determine the number of rows and columns for subplots\n",
    "    num_rows = num_dataframes//num_cols\n",
    "\n",
    "    fig, axes = plt.subplots(num_rows, num_cols, figsize=(15, 5 * num_rows))\n",
    "    fig.subplots_adjust(hspace=0.5)\n",
    "    \n",
    "    # Colors for the pie chart\n",
    "    colors = [\"#47B39C\", \"#FFC154\", \"#EC6B56\"]\n",
    "\n",
    "    for i, df in enumerate(dataframes):\n",
    "        other_totals = len(df[df[\"relabeled\"]==0])\n",
    "        rHW_totals = len(df[df[\"relabeled\"]==1])\n",
    "        cHW_totals = len(df[df[\"relabeled\"]==2])\n",
    "        category_counts = [other_totals, rHW_totals, cHW_totals]\n",
    "        overall_percentages = [(count / len(df)) * 100 for count in category_counts]\n",
    "\n",
    "        row = i//num_cols\n",
    "        col = i%num_cols\n",
    "        if num_rows==1 or num_cols ==1:\n",
    "            ax = axes[i]\n",
    "        else:\n",
    "            ax = axes[row,col]\n",
    "        \n",
    "        #ax.pie(category_counts, labels=categories, autopct='%1.1f%%', startangle=90, colors=['skyblue', 'lightcoral', 'lightgreen', 'lightpink'])\n",
    "        #ax.axis('equal')\n",
    "        wedges, _ ,_ = ax.pie(overall_percentages, colors=colors, startangle=90, autopct=\"\",wedgeprops={'edgecolor': 'black'})\n",
    "\n",
    "        # Create legend with values\n",
    "        legend_labels = [f\"{label}: {percentage:.1f}%\" for label, percentage in zip(labels, overall_percentages)]\n",
    "        ax.legend(wedges, legend_labels, loc=\"center\", bbox_to_anchor=(0.5, -0.1))\n",
    "\n",
    "        # Remove text from pie chart\n",
    "        #ax.setp(wedges, width=0.4) \n",
    "\n",
    "        #ax.hist(category_counts, bins=categories, rwidth=0.8, alpha=0.7, color='skyblue')\n",
    "        #ax.set_xlabel('Labels')\n",
    "        #ax.set_ylabel('Frequency')\n",
    "        ax.set_title(names[i])\n",
    "        ax.grid(axis='y', linestyle='--', alpha=0.7)\n",
    "        \n",
    "        \n",
    "    # Remove empty subplots if any\n",
    "    for i in range(num_dataframes, num_rows * num_cols):\n",
    "        fig.delaxes(axes[i // num_cols, i % num_cols])\n",
    "    \n",
    "    # Show the legend\n",
    "    plt.axis('off')\n",
    "    plt.show()"
   ]
  },
  {
   "cell_type": "code",
   "execution_count": 14,
   "metadata": {
    "scrolled": false
   },
   "outputs": [
    {
     "data": {
      "image/png": "[encoded data removed]",
      "text/plain": [
       "<Figure size 1500x500 with 2 Axes>"
      ]
     },
     "metadata": {},
     "output_type": "display_data"
    }
   ],
   "source": [
    "plot_multiple_pies([df_train, df_test], [\"train\",\"test\"], num_cols=2)"
   ]
  },
  {
   "cell_type": "code",
   "execution_count": 15,
   "metadata": {},
   "outputs": [],
   "source": [
    "# Sampling\n",
    "X_train = df_train.iloc[:,:-2]\n",
    "y_train = df_train.iloc[:,-2]"
   ]
  },
  {
   "cell_type": "code",
   "execution_count": null,
   "metadata": {},
   "outputs": [
    {
     "name": "stderr",
     "output_type": "stream",
     "text": [
      "/home/atm/anaconda3/envs/dl23/lib/python3.9/site-packages/imblearn/over_sampling/_smote/base.py:345: FutureWarning: The parameter `n_jobs` has been deprecated in 0.10 and will be removed in 0.12. You can pass an nearest neighbors estimator where `n_jobs` is already set instead.\n",
      "  warnings.warn(\n"
     ]
    }
   ],
   "source": [
    "# Create a SMOTEENN object\n",
    "smotenn = SMOTEENN(random_state=42,n_jobs=-1)\n",
    "\n",
    "# Apply SMOTENN to balance the dataset\n",
    "X_resampled, y_resampled = smotenn.fit_resample(X_train, y_train)\n",
    "\n",
    "logger.info(f\"Class distribution after NearMiss UnderSampling: {Counter(y_resampled)}\")"
   ]
  },
  {
   "cell_type": "code",
   "execution_count": null,
   "metadata": {},
   "outputs": [],
   "source": [
    "# ENN\n",
    "enn = EditedNearestNeighbours(n_jobs=-1, sampling_strategy='majority')\n",
    "\n",
    "# SMOTEENN\n",
    "smotenn = SMOTEENN(enn=enn, random_state=65, n_jobs=-1)\n",
    "\n",
    "# Apply\n",
    "X_smoteenn, y_smoteenn = smotenn.fit_resample(X, y)\n",
    "logger.info(f\"Class distribution after SMOTEENN: {Counter(y_smoteenn)}\")"
   ]
  },
  {
   "cell_type": "code",
   "execution_count": 37,
   "metadata": {},
   "outputs": [],
   "source": [
    "# Initialize RobustScaler and MinMaxScaler\n",
    "robust_scaler = RobustScaler()\n",
    "\n",
    "# Split the data into training and testing sets\n",
    "#X_train = robust_scaler.fit_transform(df_train.iloc[:,:-2].values)\n",
    "X_train_scaled =  robust_scaler.fit_transform(X_smoteenn.values)\n",
    "X_test = robust_scaler.transform(df_test.iloc[:,:-2].values)\n",
    "\n",
    "#y_train = df_train.iloc[:,-2]\n",
    "y_train_scaled = y_smoteenn\n",
    "y_test = df_test.iloc[:,-2]"
   ]
  },
  {
   "cell_type": "code",
   "execution_count": 38,
   "metadata": {},
   "outputs": [],
   "source": [
    "def train_random_forest(X_train, y_train, n_estimators=150, max_depth=None, random_state=None, n_jobs=12):\n",
    "    # Compute class weights\n",
    "    class_weights = compute_class_weight('balanced', classes=np.unique(y_train), y=y_train)\n",
    "    class_weight_dict = {i: weight for i, weight in enumerate(class_weights)}\n",
    "    \n",
    "    print(class_weight_dict)\n",
    "    # Initialize the Random Forest Classifier\n",
    "    clf = RandomForestClassifier(n_estimators=n_estimators, max_depth=max_depth, random_state=random_state,\n",
    "                                 class_weight=class_weight_dict, n_jobs=n_jobs)\n",
    "    \n",
    "    print(\"Training ML Classifier.\")\n",
    "    # Train the model\n",
    "    clf.fit(X_train, y_train)\n",
    "    return clf\n",
    "\n",
    "def evaluate_model(clf, X_test, y_test):\n",
    "    # Make predictions\n",
    "    y_pred = clf.predict(X_test)\n",
    "\n",
    "    # Calculate F1 score with macro averaging\n",
    "    f1_macro = f1_score(y_test, y_pred, average='macro')\n",
    "    \n",
    "    # Generate a classification report\n",
    "    classification_rep = classification_report(y_test, y_pred)\n",
    "\n",
    "    # Generate a confusion matrix\n",
    "    cm = confusion_matrix(y_test, y_pred)\n",
    "\n",
    "    return f1_macro, classification_rep, cm\n",
    "\n",
    "def plot_confusion_matrix(cm, classes):\n",
    "    plt.figure(figsize=(8, 6))\n",
    "    plt.imshow(cm, interpolation='nearest', cmap=plt.cm.Blues)\n",
    "    plt.title('Confusion Matrix')\n",
    "    plt.colorbar()\n",
    "    tick_marks = np.arange(len(classes))\n",
    "    plt.xticks(tick_marks, classes)\n",
    "    plt.yticks(tick_marks, classes)\n",
    "\n",
    "    fmt = 'd'\n",
    "    thresh = cm.max() / 2.\n",
    "    for i, j in itertools.product(range(cm.shape[0]), range(cm.shape[1])):\n",
    "        plt.text(j, i, format(cm[i, j], fmt),\n",
    "                 horizontalalignment=\"center\",\n",
    "                 color=\"white\" if cm[i, j] > thresh else \"black\")\n",
    "\n",
    "    plt.ylabel('True label')\n",
    "    plt.xlabel('Predicted label')\n",
    "    plt.tight_layout()\n",
    "    plt.show()"
   ]
  },
  {
   "cell_type": "code",
   "execution_count": 39,
   "metadata": {},
   "outputs": [
    {
     "name": "stdout",
     "output_type": "stream",
     "text": [
      "{0: 0.3362322271154661, 1: 70.96213783403657, 2: 84.93952861952862}\n",
      "Training ML Classifier.\n"
     ]
    }
   ],
   "source": [
    "# Train the Random Forest Classifier\n",
    "clf = train_random_forest(X_train, y_train, random_state=25,n_jobs=12)"
   ]
  },
  {
   "cell_type": "code",
   "execution_count": 40,
   "metadata": {},
   "outputs": [
    {
     "name": "stderr",
     "output_type": "stream",
     "text": [
      "/home/atm/anaconda3/envs/dl23/lib/python3.9/site-packages/sklearn/metrics/_classification.py:1318: UndefinedMetricWarning: Precision and F-score are ill-defined and being set to 0.0 in labels with no predicted samples. Use `zero_division` parameter to control this behavior.\n",
      "  _warn_prf(average, modifier, msg_start, len(result))\n",
      "/home/atm/anaconda3/envs/dl23/lib/python3.9/site-packages/sklearn/metrics/_classification.py:1318: UndefinedMetricWarning: Precision and F-score are ill-defined and being set to 0.0 in labels with no predicted samples. Use `zero_division` parameter to control this behavior.\n",
      "  _warn_prf(average, modifier, msg_start, len(result))\n",
      "/home/atm/anaconda3/envs/dl23/lib/python3.9/site-packages/sklearn/metrics/_classification.py:1318: UndefinedMetricWarning: Precision and F-score are ill-defined and being set to 0.0 in labels with no predicted samples. Use `zero_division` parameter to control this behavior.\n",
      "  _warn_prf(average, modifier, msg_start, len(result))\n"
     ]
    },
    {
     "name": "stdout",
     "output_type": "stream",
     "text": [
      "F1 Score (Macro): 0.33028166270598774\n",
      "Classification Report:\n",
      "               precision    recall  f1-score   support\n",
      "\n",
      "           0       0.98      1.00      0.99    381510\n",
      "           1       0.00      0.00      0.00      5250\n",
      "           2       0.00      0.00      0.00      1800\n",
      "\n",
      "    accuracy                           0.98    388560\n",
      "   macro avg       0.33      0.33      0.33    388560\n",
      "weighted avg       0.96      0.98      0.97    388560\n",
      "\n"
     ]
    },
    {
     "data": {
      "image/png": "[encoded data removed]",
      "text/plain": [
       "<Figure size 800x600 with 2 Axes>"
      ]
     },
     "metadata": {},
     "output_type": "display_data"
    }
   ],
   "source": [
    "# Evaluate the model\n",
    "f1_macro, classification_rep, cm = evaluate_model(clf, X_test, y_test)\n",
    "#f1_macro, classification_rep, cm = evaluate_model(clf, X_train, y_train)\n",
    "\n",
    "print(\"F1 Score (Macro):\", f1_macro)\n",
    "print(\"Classification Report:\\n\", classification_rep)\n",
    "\n",
    "# Plot the confusion matrix\n",
    "class_names = [\"others\",\"rHW\", \"cHW\"]\n",
    "plot_confusion_matrix(cm, classes=class_names)"
   ]
  }
 ],
 "metadata": {
  "kernelspec": {
   "display_name": "Python 3 (ipykernel)",
   "language": "python",
   "name": "python3"
  },
  "language_info": {
   "codemirror_mode": {
    "name": "ipython",
    "version": 3
   },
   "file_extension": ".py",
   "mimetype": "text/x-python",
   "name": "python",
   "nbconvert_exporter": "python",
   "pygments_lexer": "ipython3",
   "version": "3.9.16"
  }
 },
 "nbformat": 4,
 "nbformat_minor": 2
}
