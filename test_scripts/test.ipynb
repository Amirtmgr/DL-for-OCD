{
 "cells": [
  {
   "cell_type": "code",
   "execution_count": 3,
   "metadata": {},
   "outputs": [
    {
     "ename": "SyntaxError",
     "evalue": "invalid syntax (3147713087.py, line 1)",
     "output_type": "error",
     "traceback": [
      "\u001b[0;36m  Cell \u001b[0;32mIn[3], line 1\u001b[0;36m\u001b[0m\n\u001b[0;31m    from ../src import *\u001b[0m\n\u001b[0m           ^\u001b[0m\n\u001b[0;31mSyntaxError\u001b[0m\u001b[0;31m:\u001b[0m invalid syntax\n"
     ]
    }
   ],
   "source": []
  },
  {
   "cell_type": "code",
   "execution_count": 1,
   "metadata": {},
   "outputs": [
    {
     "ename": "ModuleNotFoundError",
     "evalue": "No module named 'src'",
     "output_type": "error",
     "traceback": [
      "\u001b[0;31m---------------------------------------------------------------------------\u001b[0m",
      "\u001b[0;31mModuleNotFoundError\u001b[0m                       Traceback (most recent call last)",
      "Cell \u001b[0;32mIn[1], line 1\u001b[0m\n\u001b[0;32m----> 1\u001b[0m \u001b[39mfrom\u001b[39;00m \u001b[39msrc\u001b[39;00m\u001b[39m.\u001b[39;00m\u001b[39mhelper\u001b[39;00m \u001b[39mimport\u001b[39;00m directory_manager \u001b[39mas\u001b[39;00m dm\n\u001b[1;32m      2\u001b[0m \u001b[39mfrom\u001b[39;00m \u001b[39msrc\u001b[39;00m\u001b[39m.\u001b[39;00m\u001b[39mhelper\u001b[39;00m \u001b[39mimport\u001b[39;00m df_manager \u001b[39mas\u001b[39;00m dfm\n\u001b[1;32m      3\u001b[0m \u001b[39mfrom\u001b[39;00m \u001b[39msrc\u001b[39;00m\u001b[39m.\u001b[39;00m\u001b[39mhelper\u001b[39;00m \u001b[39mimport\u001b[39;00m data_structures \u001b[39mas\u001b[39;00m ds\n",
      "\u001b[0;31mModuleNotFoundError\u001b[0m: No module named 'src'"
     ]
    }
   ],
   "source": [
    "from src.helper import directory_manager as dm\n",
    "from src.helper import df_manager as dfm\n",
    "from src.helper import data_structures as ds\n",
    "from src.dl_pipeline.helpers.sliding_window import get_windows"
   ]
  },
  {
   "cell_type": "code",
   "execution_count": null,
   "metadata": {},
   "outputs": [],
   "source": [
    "csv_files = dm.get_files_names()\n",
    "grouped_files = ds.group_by_subjects(csv_files)\n",
    "subjects = list(grouped_files.keys())\n",
    "train_subjects = subjects\n",
    "val_subjects = []         \n",
    "\n",
    "# Get window_size\n",
    "windows_size = 150\n",
    "overlapping_ratio = 0.0"
   ]
  },
  {
   "cell_type": "code",
   "execution_count": null,
   "metadata": {},
   "outputs": [],
   "source": [
    "train_windows = []\n",
    "train_labels = []\n",
    "val_windows = []\n",
    "val_labels = []"
   ]
  },
  {
   "cell_type": "code",
   "execution_count": null,
   "metadata": {},
   "outputs": [],
   "source": [
    "# Load all csv files:\n",
    "for sub_id in subjects:\n",
    "files = grouped_files[sub_id]\n",
    "temp_df = dfm.load_all_files(files)\n",
    "window,label = get_windows(temp_df, windows_size, overlapping_ratio)\n",
    "window_np = np.array(window)\n",
    "label_np = np.array(label)\n",
    "\n",
    "# To do: Check for windows and labels arrays\n",
    "if sub_id in train_subjects:\n",
    "    train_windows.append(window_np)\n",
    "    train_labels.append(label_np)\n",
    "elif sub_id in val_subjects:\n",
    "    val_windows.append(window_np)\n",
    "    val_labels.append(label_np) \n",
    "\n",
    "df_train_windows = pd.concat(train_windows)\n",
    "df_train_labels = pd.concat(train_labels)   \n",
    "df_val_windows = pd.concat(val_windows)\n",
    "df_val_labels = pd.concat(val_labels)"
   ]
  }
 ],
 "metadata": {
  "kernelspec": {
   "display_name": "dl23",
   "language": "python",
   "name": "python3"
  },
  "language_info": {
   "codemirror_mode": {
    "name": "ipython",
    "version": 3
   },
   "file_extension": ".py",
   "mimetype": "text/x-python",
   "name": "python",
   "nbconvert_exporter": "python",
   "pygments_lexer": "ipython3",
   "version": "3.9.17"
  },
  "orig_nbformat": 4
 },
 "nbformat": 4,
 "nbformat_minor": 2
}
